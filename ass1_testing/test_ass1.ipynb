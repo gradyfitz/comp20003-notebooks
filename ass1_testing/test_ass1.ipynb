{
 "cells": [
  {
   "cell_type": "markdown",
   "metadata": {},
   "source": [
    "# Assignment 1 Verification Tests & Submit Scripts\n",
    "This is a simple set of tests to see whether your program fits our expected format.\n",
    "It comprises the following tests:\n",
    "\n",
    "1. Correctly inserts and finds key with single item in dictionary\n",
    "2. Can find all data for ten unique keys inserted in dictionary\n",
    "3. Finds all duplicates for duplicate keys\n",
    "4. Handles string containing double quotes\n",
    "\n",
    "### Instructions\n",
    "To test:\n",
    "1. Put your code in the submission folder.\n",
    "2. Run the first cell.\n",
    "\n",
    "To zip up your submission:\n",
    "1. Run the second cell.\n",
    "2. Download submission-(your username).zip from this folder."
   ]
  },
  {
   "cell_type": "markdown",
   "metadata": {},
   "source": [
    "### Verify your submission"
   ]
  },
  {
   "cell_type": "code",
   "execution_count": null,
   "metadata": {},
   "outputs": [],
   "source": [
    "# Cell 1: Test your code by running this cell.\n",
    "import subprocess\n",
    "import os\n",
    "import datetime\n",
    "def timelog(*args, **kwargs):\n",
    "    \"\"\"\n",
    "    Logs the message msg timestamped with the current time and date.\n",
    "    \"\"\"\n",
    "    print(\"[\", datetime.datetime.now(), \"]\", *args, **kwargs)\n",
    "\n",
    "program = subprocess.Popen(['bash', '-c', \"chmod 777 ./ass1_basic.sh && timeout 60 bash ./ass1_basic.sh\"], \n",
    "                           stdout=subprocess.PIPE, stderr=subprocess.PIPE)\n",
    "timelog(\" - stdout - \")\n",
    "print(program.stdout.read().decode())\n",
    "timelog(\" - stderr - \")\n",
    "error_text = program.stderr.read().decode()\n",
    "#if not error_text:\n",
    "    #error_text = \"No execution errors!\"\n",
    "print(error_text)\n",
    "timelog(\" ---------- \")\n",
    "timelog(\"Test completed.\")"
   ]
  },
  {
   "cell_type": "markdown",
   "metadata": {},
   "source": [
    "### Zip up your submission\n",
    "<span style=\"color:red\">Make sure the execution number here is greater than your test above, don't accidentally submit old code!</span>\n",
    "\n",
    "This code can be rerun without issue."
   ]
  },
  {
   "cell_type": "code",
   "execution_count": null,
   "metadata": {},
   "outputs": [],
   "source": [
    "# Cell 2: Zip up your submission.\n",
    "import os\n",
    "import submitutils\n",
    "\n",
    "os.popen(\"rm -rf submission/*.o submission/dict\").read()\n",
    "submitutils.do_zip()"
   ]
  }
 ],
 "metadata": {
  "kernelspec": {
   "display_name": "Python 3",
   "language": "python",
   "name": "python3"
  },
  "language_info": {
   "codemirror_mode": {
    "name": "ipython",
    "version": 3
   },
   "file_extension": ".py",
   "mimetype": "text/x-python",
   "name": "python",
   "nbconvert_exporter": "python",
   "pygments_lexer": "ipython3",
   "version": "3.7.4"
  }
 },
 "nbformat": 4,
 "nbformat_minor": 4
}
