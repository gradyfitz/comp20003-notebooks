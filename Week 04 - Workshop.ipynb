{
 "cells": [
  {
   "cell_type": "markdown",
   "metadata": {},
   "source": [
    "# Worksheet 3"
   ]
  },
  {
   "cell_type": "markdown",
   "metadata": {},
   "source": [
    "## Overview"
   ]
  },
  {
   "cell_type": "markdown",
   "metadata": {},
   "source": [
    "The workshop for Week 4 will start with a tutorial on binary search tree insertion and how to keep a node counter updated once an item is inserted.\n",
    "\n",
    "## Tutorial Questions\n",
    "\n",
    "**Question 3.1** Given the following input:"
   ]
  },
  {
   "cell_type": "markdown",
   "metadata": {},
   "source": [
    "- 8 4 9 11 6 7 1 5 3 14 10 13 2\n",
    "\n",
    "Write the insertion function used to get the binary search tree shown below. You may find it useful to draw what you want to do for a few steps on paper first before trying to write the code for it.\n",
    "\n",
    "The code in this exercise can be found in the week4 folder, this would be a good opportunity to get used to writing a makefile!\n",
    "\n",
    "*NOTE: You will also have to implement the freeTree function to resolve the leak checking functionality if you choose to complete this exercise in the notebook. You can also utilise the fflush(stdout) command after the tree drawing to ensure the output happens before the program ends.*"
   ]
  },
  {
   "cell_type": "code",
   "execution_count": null,
   "metadata": {},
   "outputs": [],
   "source": [
    "//%test_script:week4/test_3.1.sh\n",
    "/* llqueue.h */\n",
    "/* This is used for printing the tree. It is an implementation of an abstract \n",
    "    data structure called a queue, which we will cover next week. You can ignore \n",
    "    llqueue.h and llqueue.c for the moment and trust they do what they say\n",
    "    they do. */\n",
    "struct llqueue;\n",
    "\n",
    "/* Creates a new, empty queue. */\n",
    "struct llqueue *newQueue();\n",
    "\n",
    "/* Adds the given item to the queue, allocating if needed. */\n",
    "void queue(struct llqueue **queue, void *item);\n",
    "\n",
    "/* Takes the next item from the queue. */\n",
    "void *dequeue(struct llqueue *queue);\n",
    "\n",
    "/* Returns 1 if the queue is empty, 0 otherwise. */\n",
    "int empty(struct llqueue *queue);\n",
    "\n",
    "/* For brevity we omit this code, it can be found in week4/llqueue-code.c */\n",
    "#include \"/home/jovyan/workshops/week4/llqueue-code.c\"\n",
    "\n",
    "/* bst.h */\n",
    "struct bst;\n",
    "\n",
    "/* \n",
    "    The function you are to write. Takes a parent pointer (null for the root),\n",
    "    and returns the tree with the child in the right position. Returns the\n",
    "    item in a new tree with null left/right pointers.\n",
    "*/\n",
    "struct bst *bstInsert(struct bst *parent, int data);\n",
    "\n",
    "/* Draws the tree. You will need to change this if your bst uses different names. */\n",
    "/* You needn't understand how this works, but you're welcome to try. */\n",
    "void drawTree(struct bst *parent);\n",
    "\n",
    "/* \n",
    "    Frees the given tree, doing nothing on an empty tree, freeing child trees \n",
    "    (recursively) first, then freeing the passed parent.\n",
    "*/\n",
    "void freeTree(struct bst *parent);\n",
    "\n",
    "/* bst.c */\n",
    "#include <stdio.h>\n",
    "#include <stdlib.h>\n",
    "#include <assert.h>\n",
    "/* #include \"llqueue.h\" */\n",
    "/* #include \"bst.h\" */\n",
    "\n",
    "struct bst {\n",
    "    struct bst *left;\n",
    "    struct bst *right;\n",
    "    int data;\n",
    "};\n",
    "\n",
    "/* \n",
    "    The function you are to write. Takes a parent pointer (null for the root),\n",
    "    and returns the tree with the child in the right position. Returns the\n",
    "    item in a new tree with null left/right pointers.\n",
    "*/\n",
    "struct bst *bstInsert(struct bst *parent, int data){\n",
    "    /* Write this function. */\n",
    "    \n",
    "    \n",
    "    \n",
    "    \n",
    "    \n",
    "    \n",
    "}\n",
    "\n",
    "void freeTree(struct bst *parent){\n",
    "    if(! parent){\n",
    "        return;\n",
    "    }\n",
    "    /* Fill in function according to function description. */\n",
    "}\n",
    "\n",
    "/* Drawing functions ommitted for brevity. */\n",
    "#include \"/home/jovyan/workshops/week4/tree-draw-functions.c\"\n",
    "\n",
    "/* main.c */\n",
    "//%stdin: \"8 4 9 11 6 7 1 5 3 14 10 13 2\"\n",
    "#include <stdio.h>\n",
    "#include <stdlib.h>\n",
    "/* #include \"bst.h\" */\n",
    "\n",
    "int main(int argc, char **argv){\n",
    "    int inputData;\n",
    "    struct bst *bst = NULL;\n",
    "    while(scanf(\"%d\",&inputData) > 0){\n",
    "        bst = bstInsert(bst, inputData);\n",
    "    }\n",
    "\n",
    "    drawTree(bst);\n",
    "    \n",
    "    freeTree(bst);\n",
    "\n",
    "    return 0;\n",
    "}"
   ]
  },
  {
   "cell_type": "markdown",
   "metadata": {},
   "source": [
    "The printout of your final step should look like:"
   ]
  },
  {
   "cell_type": "raw",
   "metadata": {},
   "source": [
    "                                                               8                                                                \n",
    "                               4                                                               9                                \n",
    "               1                               6                                                              11                \n",
    "                       3               5               7                                              10              14        \n",
    "                   2                                                                                              13"
   ]
  },
  {
   "cell_type": "markdown",
   "metadata": {},
   "source": [
    "## Programming Exercises"
   ]
  },
  {
   "cell_type": "markdown",
   "metadata": {},
   "source": [
    "**Programming 3.1** For this exercise, you will write the missing components from the first exercise,\n",
    " - the *header for the binary search tree*, \n",
    " - the *main function*, \n",
    "and a *value lookup function*, which will allow you to perform a lookup for a particular value and print *how many comparisons were needed to find the item* or *that it does not exist in the tree*. \n",
    "\n",
    "If you have time, you should also try writing a function that *frees all the memory used in your tree*.\n",
    "\n",
    "You will practice writing a *makefile* for this exercise and practice debugging your program if a bug exists.\n",
    "\n",
    "For this, we will get you to use **GDB** and **Valgrind**. The **GDB reference card** file will likely be useful, as well as the **Valgrind tutorial** on the LMS under Resources. Valgrind is a great tool to help find memory leaks!"
   ]
  },
  {
   "cell_type": "markdown",
   "metadata": {},
   "source": [
    "**NOTE:** You will get much more useful debugging information by compiling with *-g*, this adds additional debugging information which tends to be extremely important. Add this to all your compilations."
   ]
  },
  {
   "cell_type": "markdown",
   "metadata": {},
   "source": [
    "### Checking Memory in Valgrind:"
   ]
  },
  {
   "cell_type": "markdown",
   "metadata": {},
   "source": [
    "You can use the following command to check for errors you've made in memory allocation using valgrind in the Terminal."
   ]
  },
  {
   "cell_type": "markdown",
   "metadata": {},
   "source": [
    "```bash\n",
    "valgrind --tool=memcheck program_name\n",
    "```"
   ]
  },
  {
   "cell_type": "markdown",
   "metadata": {},
   "source": [
    "*--tool=memcheck* specifies that valgrind should use the memory error checker, there are other tools, such as Cachegrind, Callgrind, Helgrind, DRD, Massif, DHAT, BBV, Lackey and (technically) Nulgrind. You can find what these do at [The Valgrind Manual](http://valgrind.org/docs/manual/manual.html).\n",
    "\n",
    "*program_name* is where you should place your program. Unlike gdb, you pass all your arguments when you call valgrind, so you would also add your arguments (and input redirections) here.\n",
    "\n",
    "If you want a detailed description of memory leaks, add the option *--leak-check=yes* before your program's name (and arguments)."
   ]
  },
  {
   "cell_type": "markdown",
   "metadata": {},
   "source": [
    "### Quick summary of basic commands for GDB"
   ]
  },
  {
   "cell_type": "markdown",
   "metadata": {},
   "source": [
    "To open your program using gdb, you can use:"
   ]
  },
  {
   "cell_type": "markdown",
   "metadata": {},
   "source": [
    "```bash\n",
    "gdb program_name\n",
    "```"
   ]
  },
  {
   "cell_type": "markdown",
   "metadata": {},
   "source": [
    "where *program\\_name* is the name of your program.\n",
    "\n",
    "Once you're inside gdb, you can use:\n",
    "- b filename.c:lineNum (to set a breakpoint at lineNum in filename.c)\n",
    "- r (to run your program, reminder: you can essentially treat r/run as your program's name, so additional arguments and input/output redirections can come after the r command)\n",
    "- CTRL+c (to stop your program executing)\n",
    "- c (continue)\n",
    "- n (next)\n",
    "- s (step)\n",
    "- d #number (disable breakpoint #number for now)\n",
    "- p name\\_variable (prints the value of the variable with the given name)\n",
    "- bt (backtrace, shows the program stack, what functions were called to get to where you are currently)\n",
    "- q (quit, exits gdb)\n",
    "- start (essentially sets a temporary breakpoint at the main function, starts your program running and then stops it)\n",
    "- info locals (gives information about all local variables in the scope you're in)\n",
    "- finish (finish the function you're currently in)\n",
    "- command #number (set some gdb commands to run every time you hit breakpoint #number, end this list with end)\n",
    "\n",
    "gdb has a huge suite of additional commands (including a Python interpreter, remote debugging, the ability to set variables to different values while running, time travel and functions), so you will probably find it useful to gradually transfer a lot of your usual debugging techniques over to gdb."
   ]
  },
  {
   "cell_type": "markdown",
   "metadata": {},
   "source": [
    "Once you've created a *breakpoint* and begun *run*ning your program, you can visualise your code."
   ]
  },
  {
   "cell_type": "markdown",
   "metadata": {},
   "source": [
    "Visualisation:\n",
    " - Ctrl-x followed by 1 (visualise the code you're debugging)\n",
    " - Ctrl-x followed by o (change focus of the screen from code to gdb terminal)\n",
    " - Ctrl-x followed by a (kill visualisation of code)"
   ]
  },
  {
   "cell_type": "markdown",
   "metadata": {},
   "source": [
    "**Programming Challenge 3.1** You've been put in charge of part of the UN dance party, a formal dance party celebrating the first year in quite some time without any country changing their flag. As part of this party, you have a number of guests of honour coming. Your guests of honour may be on peaceful terms, but a few countries are still not on particularly good terms and have said, in no uncertain terms, that they do not want to be partnered with certain countries for PR purposes. Knowing you're an expert programmer taking an impressive sounding \"Algorithms and Data Structures\" subject, the UN has asked you to write a program to find a set of pairings of dancers that does not violate any of the pairs which don't want to be paired. [1]"
   ]
  },
  {
   "cell_type": "code",
   "execution_count": null,
   "metadata": {},
   "outputs": [],
   "source": [
    "//%test_script:week4/test_pc_3.1.sh\n",
    "#include <stdio.h>\n",
    "#include <stdlib.h>\n",
    "#define GRUDGECOUNT 5\n",
    "#define NATIONS 8\n",
    "#define PARTNERS 2\n",
    "#define GROUPS NATIONS/PARTNERS\n",
    "\n",
    "/*\n",
    "    Returns 1 if any pair in the array given violates\n",
    "    the grudges given (that is, any pair matches any\n",
    "    grudge in any order). Returns 0 otherwise.\n",
    "    It is assumed that no grudges occur with someone \n",
    "    and themself, though the function will still \n",
    "    return a correct result in that case by some \n",
    "    definitions, that's not too important for this\n",
    "    problem. \n",
    "*/\n",
    "int conflict(int grudges[GRUDGECOUNT][PARTNERS], int pairs[GROUPS][PARTNERS]);\n",
    "\n",
    "int main(int argc, char **argv){\n",
    "    int grudges[GRUDGECOUNT][PARTNERS];\n",
    "    int pairs[GROUPS][PARTNERS];\n",
    "    int i, j;\n",
    "    \n",
    "    /* \n",
    "        Grudges are:\n",
    "        3 and 4\n",
    "        5 and 6\n",
    "        1 and 3\n",
    "        2 and 3\n",
    "        3 and 6\n",
    "        Where, for sanity, indices start from 0\n",
    "    */\n",
    "    \n",
    "    grudges[0][0] = 3; grudges[0][1] = 4;\n",
    "    grudges[1][0] = 5; grudges[1][1] = 6;\n",
    "    grudges[2][0] = 1; grudges[2][1] = 3;\n",
    "    grudges[3][0] = 2; grudges[3][1] = 3;\n",
    "    grudges[4][0] = 3; grudges[4][1] = 6;\n",
    "    \n",
    "    /* Find pairs using some algorithm. */\n",
    "    \n",
    "    \n",
    "    /* -------------------------------- */\n",
    "    for(i = 0; i < GROUPS; i++){\n",
    "        printf(\"Partners %d: \",i);\n",
    "        for(j = 0; j < PARTNERS; j++){\n",
    "            if(j != 0){\n",
    "                printf(\" and \");\n",
    "            }\n",
    "            printf(\"%d\",pairs[i][j]);\n",
    "        }\n",
    "        printf(\"\\n\");\n",
    "    }\n",
    "    \n",
    "    return 0;\n",
    "}\n",
    "\n",
    "\n",
    "\n",
    "int conflict(int grudges[GRUDGECOUNT][PARTNERS], int pairs[GROUPS][PARTNERS]){\n",
    "    int i,j,k,l;\n",
    "    int count;\n",
    "    for(i = 0; i < GROUPS; i++){\n",
    "        /* Check not all partners in ith group not a grudges group */\n",
    "        for(j = 0; j < GRUDGECOUNT; j++){\n",
    "            count = 0;\n",
    "            /* Accumulate all partners. */\n",
    "            for(k = 0; k < PARTNERS; k++){\n",
    "                for(l = 0; l < PARTNERS; l++){\n",
    "                   if(grudges[j][k] == pairs[i][l]){\n",
    "                       count++;\n",
    "                       break;\n",
    "                   }\n",
    "                }\n",
    "                if(count >= PARTNERS){\n",
    "                    return 1;\n",
    "                }\n",
    "            }\n",
    "        }\n",
    "    }\n",
    "    /* Found no conflicts */\n",
    "    return 0;\n",
    "}"
   ]
  },
  {
   "cell_type": "markdown",
   "metadata": {},
   "source": [
    "[1]: This problem was adapted from tuenti challenge 8 ([https://contest.tuenti.net/Challenges?id=10](Problem 10)), a 2018 programming challenge put together by Madrid-based company Tuenti. Some of those who did well in the competition ended up working at the company as a result of their performance. The challenge itself is a bit more involved, but may not be too much more difficult."
   ]
  }
 ],
 "metadata": {
  "kernelspec": {
   "display_name": "C",
   "language": "c",
   "name": "c"
  },
  "language_info": {
   "file_extension": ".c",
   "mimetype": "text/plain",
   "name": "c"
  }
 },
 "nbformat": 4,
 "nbformat_minor": 4
}
