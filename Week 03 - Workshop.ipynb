{
 "cells": [
  {
   "cell_type": "markdown",
   "metadata": {},
   "source": [
    "# Worksheet 2"
   ]
  },
  {
   "cell_type": "markdown",
   "metadata": {},
   "source": [
    "## Overview"
   ]
  },
  {
   "cell_type": "markdown",
   "metadata": {},
   "source": [
    "The workshop for Week 3 will start with a mini-tutorial on computational complexity and static/dynamic arrays."
   ]
  },
  {
   "cell_type": "markdown",
   "metadata": {},
   "source": [
    "## Tutorial Questions"
   ]
  },
  {
   "cell_type": "markdown",
   "metadata": {},
   "source": [
    "**Question 2.1** Given the following functions *f(n)* and *g(n)*, is *f* in *O(g(n))* or is *f* in *Θ(g(n))*, or both?"
   ]
  },
  {
   "cell_type": "raw",
   "metadata": {},
   "source": [
    "|     | f(n)    | g(n)      | f in O(g(n)) | f in Θ(g(n)) | both |\n",
    "|-----|---------|-----------|--------------|--------------|------|\n",
    "| (a) | n + 100 | n + 200   |              |              |      |\n",
    "| (b) | log2(n) | log10(n)  |              |              |      |\n",
    "| (c) | 2^n     | 2^(n + 1) |              |              |      |\n",
    "| (d) | 2^n     | 3^n       |              |              |      |"
   ]
  },
  {
   "cell_type": "markdown",
   "metadata": {},
   "source": [
    "**Question 2.2** big-O notation gives an upper bound for a function. In Computer Science, we often loosely use big-O to mean the *least* upper bound.\n",
    "\n",
    "First of all: make sure you can describe the difference between *any* upper bound and the *least* upper bound. big-Θ (theta) is an exact bound: the function is bounded form below and from above by g(n).\n",
    "\n",
    "The following table uses big-O notation and big-Θ notation to approximate the running time of algorithms. Given the descriptions of the run time in the two left hand columns, what can you say, in each instance, about the relative performance of the two algorithms when:\n",
    "\n",
    "1. big-O is used in the usual Computer Science sense, as the least upper bound;\n",
    "2. big-O is used in its strictest sense to mean any upper bound."
   ]
  },
  {
   "cell_type": "raw",
   "metadata": {},
   "source": [
    "| Algorithm 1 | Algorithm 2 | Relative Performance: CS sense of big-O | Relative Performance: Strict sense of big-O |\n",
    "|-------------|-------------|-----------------------------------------|---------------------------------------------|\n",
    "| O(n log n)  | O(n^3)      |                                         |                                             |\n",
    "| Θ(n log n)  | O(n^3)      |                                         |                                             |\n",
    "| O(n log n)  | Θ(n^3)      |                                         |                                             |\n",
    "| Θ(n log n)  | Θ(n^3)      |                                         |                                             |"
   ]
  },
  {
   "cell_type": "markdown",
   "metadata": {},
   "source": [
    "**Question 2.3** What is the difference between the following declarations? (What do they each declare)"
   ]
  },
  {
   "cell_type": "code",
   "execution_count": null,
   "metadata": {},
   "outputs": [],
   "source": [
    "int a[10][20];"
   ]
  },
  {
   "cell_type": "code",
   "execution_count": null,
   "metadata": {},
   "outputs": [],
   "source": [
    "int *b[10];"
   ]
  },
  {
   "cell_type": "markdown",
   "metadata": {},
   "source": [
    "1. How could you use them both as 2-dimensional arrays? (Show what you could do by modifying the code below so a and b print the same values)\n",
    "\n",
    "*NOTE: You'll also need to clean up at the end to ensure no false alarms in code checking.*"
   ]
  },
  {
   "cell_type": "code",
   "execution_count": null,
   "metadata": {},
   "outputs": [],
   "source": [
    "//%test_script:week3/test_2.3.sh\n",
    "#include <stdio.h>\n",
    "#include <stdlib.h>\n",
    "\n",
    "int main(int argc, char **argv){\n",
    "    int i,j;\n",
    "    int a[10][20];\n",
    "    int *b[10];\n",
    "    \n",
    "    /* Write code here to use b in the below loops. */\n",
    "    \n",
    "    for(i = 0; i < 10; i++){\n",
    "        for(j = 0; j < 20; j++){\n",
    "            /* This fills a and b with the numbers 0 -> 199 */\n",
    "            a[i][j] = i*20 + j;\n",
    "            b[i][j] = i*20 + j;\n",
    "        }\n",
    "    }\n",
    "    \n",
    "    for(i = 0; i < 10; i++){\n",
    "        for(j = 0; j < 20; j++){\n",
    "            /* Feel free to modify this to do different things, only prints \n",
    "            when i == j to give less output, no real significance. */\n",
    "            if(i == j){\n",
    "                printf(\"a[%d][%d] = %d, b[%d][%d] = %d\\n\",i,j,a[i][j],i,j,b[i][j]);\n",
    "            }\n",
    "        }\n",
    "    }\n",
    "    \n",
    "    return 0;\n",
    "}"
   ]
  },
  {
   "cell_type": "markdown",
   "metadata": {},
   "source": [
    "2. What advantages might there be to declaring an array like \\*b\\[\\] above, instead of like a\\[\\]\\[\\] above?"
   ]
  },
  {
   "cell_type": "raw",
   "metadata": {},
   "source": []
  },
  {
   "cell_type": "markdown",
   "metadata": {},
   "source": [
    "3. How could you make the variable declared as int \\*\\* into a 2-dimensional array? (Write the code below.)"
   ]
  },
  {
   "cell_type": "code",
   "execution_count": null,
   "metadata": {},
   "outputs": [],
   "source": [
    "//%test_script:week3/test_2.3.3.sh\n",
    "#include <stdio.h>\n",
    "#include <stdlib.h>\n",
    "\n",
    "int main(int argc, char **argv){\n",
    "    int i,j;\n",
    "    int a[10][20];\n",
    "    int *b[10];\n",
    "    int **c;\n",
    "    \n",
    "    /* Take your code from part 1 for b and put it here. */\n",
    "    \n",
    "    /* Write the code for initialising c and put it here. */\n",
    "    \n",
    "    for(i = 0; i < 10; i++){\n",
    "        for(j = 0; j < 20; j++){\n",
    "            /* This fills a and b with the numbers 0 -> 199 */\n",
    "            a[i][j] = i*20 + j;\n",
    "            b[i][j] = i*20 + j;\n",
    "            c[i][j] = i*20 + j;\n",
    "        }\n",
    "    }\n",
    "    \n",
    "    for(i = 0; i < 10; i++){\n",
    "        for(j = 0; j < 20; j++){\n",
    "            /* Feel free to modify this to do different things, only prints \n",
    "            when i == j to give less output, no real significance. */\n",
    "            if(i == j){\n",
    "                printf(\"a[%d][%d] = %d, b[%d][%d] = %d, c[%d][%d] = %d\\n\",i,j,a[i][j],i,j,b[i][j],i,j,c[i][j]);\n",
    "            }\n",
    "        }\n",
    "    }\n",
    "    \n",
    "    return 0;\n",
    "}"
   ]
  },
  {
   "cell_type": "markdown",
   "metadata": {},
   "source": [
    "**Question 2.4** Give *a* characterisation, in terms of big-O, big-Ω and big-Θ of the following loops:"
   ]
  },
  {
   "cell_type": "code",
   "execution_count": null,
   "metadata": {},
   "outputs": [],
   "source": [
    "int p = 1, i;\n",
    "for(i = 0; i < 2*n; i++){\n",
    "    p = p * i;\n",
    "}"
   ]
  },
  {
   "cell_type": "raw",
   "metadata": {},
   "source": [
    "Big-O:\n",
    "Big-Ω:\n",
    "Big-Θ:"
   ]
  },
  {
   "cell_type": "code",
   "execution_count": null,
   "metadata": {},
   "outputs": [],
   "source": [
    "int s = 0, i, j;\n",
    "for(i = 0; i < 2*n; i++){\n",
    "    for(j = 0; j < i; j++){\n",
    "        s = s + i;\n",
    "    }\n",
    "}"
   ]
  },
  {
   "cell_type": "raw",
   "metadata": {},
   "source": [
    "Big-O:\n",
    "Big-Ω:\n",
    "Big-Θ:"
   ]
  },
  {
   "cell_type": "markdown",
   "metadata": {},
   "source": [
    "## Programming Exercises"
   ]
  },
  {
   "cell_type": "markdown",
   "metadata": {},
   "source": [
    "**Programming 2.1** In this task, the objective is simply to write a program which changes the value of a variable in a different scope.\n",
    "\n",
    "This problem is intended to highlight some common pointer misconceptions and ensure you have a strong grasp on how things are actually working. The task is fairly simple if you already have a very strong grasp of pointers, but might raise some eyebrows if you think the C programming language is more complex than it actually is or don't quite fully understand how c handles scoping.\n",
    "\n",
    "*Note: In this exercise, you can make changes **anywhere** to make this program work, the intention is just to fix this program to do what it is supposed to do. So changeX after is reflected in main after.*"
   ]
  },
  {
   "cell_type": "code",
   "execution_count": null,
   "metadata": {},
   "outputs": [],
   "source": [
    "//%test_script:week3/test_scope.sh\n",
    "#include <stdio.h>\n",
    "#include <stdlib.h>\n",
    "\n",
    "/* You may have to make some changes to this program to make this work. */\n",
    "/* Changes the value of x given to the integer 9. */\n",
    "void changeX(int x);\n",
    "\n",
    "int main(int argc, char **argv){\n",
    "    int x = 5;\n",
    "    printf(\"[main    before] x = %d\\n\",x);\n",
    "    changeX(x);\n",
    "    printf(\"[main    after ] x = %d\\n\",x);\n",
    "    return 0;\n",
    "}\n",
    "\n",
    "void changeX(int x){\n",
    "    printf(\"[changeX before] x = %d\\n\",x);\n",
    "    x = 9;\n",
    "    printf(\"[changeX after ] x = %d\\n\",x);\n",
    "}"
   ]
  },
  {
   "cell_type": "markdown",
   "metadata": {},
   "source": [
    "**Programming 2.2** In this task, the objective is to write a dynamically allocated array that takes a number of words and stores these in an array. \n",
    "\n",
    "Input for this program will be first a number explaining how many strings will be written to stdin. \n",
    "Then, for each of these strings, a number representing the length of the string will be written to stdin, followed by some whitespace (ignored) and the string to be stored.\n",
    "\n",
    "This array should be declared dynamically using malloc. A bit of scaffolding has been provided to constrain the problem a little.\n",
    "\n",
    "Note: If you didn't complete Programming 1.2 from Week 2's Worksheet 1, you might find that a useful place to start."
   ]
  },
  {
   "cell_type": "code",
   "execution_count": null,
   "metadata": {},
   "outputs": [],
   "source": [
    "//%test_script:week3/test_malloc_string.sh\n",
    "//%stdin: \"5 4 this 2 is 4 some 7 example 4 text\"\n",
    "//%stdout: \"this is some example text\"\n",
    "#include <stdio.h>\n",
    "#include <stdlib.h>\n",
    "#include <assert.h>\n",
    "\n",
    "int main(int argc, char **argv){\n",
    "    int numStrings;\n",
    "    int nextStringLength;\n",
    "    int i, j;\n",
    "    char **strings;\n",
    "    \n",
    "    /* Read number of strings to store. */\n",
    "    \n",
    "    /* Allocate space for the array of strings. */\n",
    "    \n",
    "    /* For each string, get its length, allocate space for it\n",
    "        and read all the characters into the string.\n",
    "        Note: Remember, these are standard strings. */\n",
    "    \n",
    "    \n",
    "    /* The below prints all words in the array with spaces between them. */\n",
    "    if(numStrings > 0){\n",
    "        printf(\"%s\",strings[0]);\n",
    "    }\n",
    "    \n",
    "    for(i = 1; i < numStrings; i++){\n",
    "        printf(\" %s\",strings[i]);\n",
    "    }\n",
    "    printf(\"\\n\");\n",
    "    \n",
    "    return 0;\n",
    "}"
   ]
  },
  {
   "cell_type": "markdown",
   "metadata": {},
   "source": [
    "As a note, the following exercises have been added to help you with aspects of the assignment that you might not have dealt with yet.\n",
    "\n",
    "**Programming 2.3** In this exercise, you'll be asked to read each line in and then print it out with a line number before it, you can read all input at once, or you can process a single line at a time. You will likely find the %s format string useful in printf. You will likely find the _getline_ function (check _man getline_ in the terminal) useful. For this exercise, you can ignore the memory leak errors if you like, though it is worth coming back to fix this once we've covered malloc and free more formally."
   ]
  },
  {
   "cell_type": "code",
   "execution_count": null,
   "metadata": {},
   "outputs": [],
   "source": [
    "//%test_script:week3/test_p_2.3.sh\n",
    "//%stdin: \"This is the first line of input.\"\n",
    "//%stdin: \"This is the second line of input!\"\n",
    "//%stdin: \"And this is the third line of input!\"\n",
    "//%stdout: \"line 0: This is the first line of input.\"\n",
    "//%stdout: \"line 1: This is the second line of input!\"\n",
    "//%stdout: \"line 2: And this is the third line of input!\"\n",
    "#include <stdio.h>\n",
    "#include <stdlib.h>\n",
    "#include <assert.h>\n",
    "\n",
    "int main(int argc, char **argv){\n",
    "    int lineNumber = 0;\n",
    "    char *line = NULL;\n",
    "    size_t lineBufferLength = 0;\n",
    "    \n",
    "    while(/* Still input to get from stdin. */){\n",
    "        /* Read the line. */\n",
    "\n",
    "        printf(\"line %d: %s\\n\", lineNumber, line);\n",
    "        \n",
    "        /* \n",
    "            Empty the stdout buffer, not strictly necessary, \n",
    "            but might make it easier to see where something's\n",
    "            going wrong if it is.\n",
    "        */\n",
    "        fflush(stdout);\n",
    "    }\n",
    "    \n",
    "    printf(\"Program complete!\\n\");\n",
    "    fflush(stdout);\n",
    "    \n",
    "    return 0;\n",
    "}"
   ]
  },
  {
   "cell_type": "markdown",
   "metadata": {},
   "source": [
    "**Programming 2.4** In this exercise, you'll do the same thing as your last exercise, but will open a file and read from that instead. You will likely find _fopen_, _fclose_ and _getline_ useful for this exercise."
   ]
  },
  {
   "cell_type": "code",
   "execution_count": null,
   "metadata": {},
   "outputs": [],
   "source": [
    "//%test_script:week3/test_p_2.4.sh\n",
    "//%stdout: \"line 0: This is the first line of input.\"\n",
    "//%stdout: \"line 1: This is the second line of input!\"\n",
    "//%stdout: \"line 2: And this is the third line of input!\"\n",
    "#include <stdio.h>\n",
    "#include <stdlib.h>\n",
    "#include <assert.h>\n",
    "\n",
    "int main(int argc, char **argv){\n",
    "    int lineNumber = 0;\n",
    "    char *line = NULL;\n",
    "    size_t lineBufferLength = 0;\n",
    "    \n",
    "    char *filename = \"week3/2.4-input.txt\";\n",
    "    \n",
    "    /* Open the file with the given filename for reading. */\n",
    "    \n",
    "    while(/* Still input to get from stdin. */){\n",
    "        /* Read the line. */\n",
    "\n",
    "        printf(\"line %d: %s\\n\", lineNumber, line);\n",
    "        \n",
    "        /* \n",
    "            Empty the stdout buffer, not strictly necessary, \n",
    "            but might make it easier to see where something's\n",
    "            going wrong if it is.\n",
    "        */\n",
    "        fflush(stdout);\n",
    "    }\n",
    "    \n",
    "    /* Close the file. */\n",
    "    \n",
    "    printf(\"Program complete!\\n\");\n",
    "    fflush(stdout);\n",
    "    \n",
    "    return 0;\n",
    "}"
   ]
  },
  {
   "cell_type": "markdown",
   "metadata": {},
   "source": [
    "**Programming 2.5** As a small difference from the last exercise, here you should read the filename from the program arguments. For this you're going to need to use the two arguments that are given to main when it gets called.\n",
    "- *argc* - The number of arguments the program received when it was called. The variable name comes from 'argument count'.\n",
    "- *argv* - An array of '\\0' terminated strings. The variable name comes from 'argument vector'."
   ]
  },
  {
   "cell_type": "code",
   "execution_count": null,
   "metadata": {},
   "outputs": [],
   "source": [
    "//%stdout: \"Error: Insufficent arguments provided.\"\n",
    "//%test_script:week3/2.4-argv.sh\n",
    "#include <stdio.h>\n",
    "#include <stdlib.h>\n",
    "#include <assert.h>\n",
    "\n",
    "int main(int argc, char **argv){\n",
    "    int lineNumber = 0;\n",
    "    char *line = NULL;\n",
    "    size_t lineBufferLength = 0;\n",
    "    \n",
    "    char *filename = NULL;\n",
    "    \n",
    "    if (/* Check if we didn't get enough arguments */){\n",
    "        /* \n",
    "            Normally you should return with a non-zero code when your program \n",
    "            fails, but here this is expected behaviour.\n",
    "        */\n",
    "        return 0;\n",
    "    }\n",
    "    \n",
    "    /* Set the filename (you can just use the string from the program arguments). */\n",
    "    \n",
    "    \n",
    "    /* Everything below here can be the same as your previous program. */\n",
    "    /* Open the file with the given filename for reading. */\n",
    "    \n",
    "    while(/* Still input to get from stdin. */){\n",
    "        /* Read the line. */\n",
    "\n",
    "        printf(\"line %d: %s\\n\", lineNumber, line);\n",
    "        \n",
    "        /* \n",
    "            Empty the stdout buffer, not strictly necessary, \n",
    "            but might make it easier to see where something's\n",
    "            going wrong if it is.\n",
    "        */\n",
    "        fflush(stdout);\n",
    "    }\n",
    "    \n",
    "    /* Close the file. */\n",
    "    \n",
    "    printf(\"Program complete!\\n\");\n",
    "    fflush(stdout);\n",
    "    \n",
    "    return 0;\n",
    "}"
   ]
  },
  {
   "cell_type": "markdown",
   "metadata": {},
   "source": [
    "**Programming Challenge 2.1** In this challenge, you work at a company called Hidebound Inc. and you've been hired as an unpaid intern to work on one of the corporation's most important products. As upper management are overly worried about any issues occuring as a result of an unpaid intern's work, they have tasked you with only a very small part of the program.\n",
    "\n",
    "The task for the part of the program you are required to write is the function modifyImportant, which modifies the value of the variable in the main function called important. \n",
    "\n",
    "You may do whatever you like to achieve this end, some of these will be more portable, but the company is more interested in results, so whatever achieves this *without* modifying any part of the code except the body of the function (clearly marked by comments) will be sufficient. Less options are available to you in the notebook (to the point that I'm not sure this is problem is solvable without being *very* lucky).\n",
    "\n",
    "A makefile has been provided for you. In the terminal you can *cd* to workshops/week3 and run *make make_and_run* or just *make* to build and run the program."
   ]
  },
  {
   "cell_type": "code",
   "execution_count": null,
   "metadata": {},
   "outputs": [],
   "source": [
    "#include <stdio.h>\n",
    "#include <stdlib.h>\n",
    "/* You may also include additional libraries, but I don't think you will need to. */\n",
    "\n",
    "void changeImportant(int newVal);\n",
    "\n",
    "int main(int argc, char **argv){\n",
    "    int important = 5;\n",
    "    printf(\"Value of important[%p] before: %d\\n\", &important, important);\n",
    "    changeImportant(7);\n",
    "    printf(\"Value of important[%p] after: %d\\n\", &important, important);\n",
    "    return 0;\n",
    "}\n",
    "\n",
    "void changeImportant(int newVal){\n",
    "    /* ---- Your jurisdiction starts here. ---- */\n",
    "    /* \n",
    "        Change the value of important in main to the newVal.\n",
    "    */\n",
    "    /* ---- Your jurisdiction ends here. ---- */\n",
    "}"
   ]
  },
  {
   "cell_type": "markdown",
   "metadata": {},
   "source": [
    "**Programming Challenge 2.2** The technology stack at Hidebound Inc. uses a subset of C which doesn't have the '.' or '->' operators, as the higher-ups heard shortcuts like this were useful in an activity called \"code golfing\" and, misunderstanding what that meant, wanted to discourage all recreational activities on company time. The change improved compile times and required resources slightly so the developer in charge of that performance was happy to force the change on the other programmers in the company. In this challenge, you'll need to replace a piece of code which does this using both the simple '->' and '.' operators with a piece of code that instead changes the value in the struct by using value casting and pointer addition instead.\n",
    "\n",
    "This challenge is intended to highlight that '.' and '->' are merely shortcuts to other dereference operations and though you will eventually find your code is less messy when using them, understanding exactly what you are doing will reduce the number of errors you make and allow you to examine code closely when you have something complicated that isn't doing exactly what you think it should be. You may find reading through the (2nd) extra workshop material document on the LMS under the Resources section is particularly useful for this task.\n",
    "\n",
    "As a hint, you may find the offsetof macro useful (you can find this using the *man* pages). For an extra challenge, try only using the sizeof macro, the address of operator (&) and the dereference operator (\\*). Note also that for the latter, a process known as \"packing\" may sometimes add holes to structs which are unused, though that has been carefully avoided in the struct defined here."
   ]
  },
  {
   "cell_type": "code",
   "execution_count": null,
   "metadata": {},
   "outputs": [],
   "source": [
    "//%test_script:week3/test_pc_2.2.sh\n",
    "/* \n",
    "    This program was written by Richard Chad Sparrow \n",
    "    as a test case for AB-testing the hazard management\n",
    "    system.\n",
    "*/\n",
    "#include <stdio.h>\n",
    "#include <stdlib.h>\n",
    "#include <stddef.h>\n",
    "\n",
    "struct hazard {\n",
    "    char *description;\n",
    "    void *extraData;\n",
    "    int extraDataType;\n",
    "    int id;\n",
    "    char severityClass;\n",
    "};\n",
    "\n",
    "void printHazard(struct hazard *hazard);\n",
    "\n",
    "int main(int argc, char **argv){\n",
    "    struct hazard hazard1;\n",
    "    struct hazard hazard2;\n",
    "    struct hazard *lastHazard;\n",
    "    \n",
    "    /* Hazard data setup. */\n",
    "    hazard1.description = \"Brake service required.\";\n",
    "    hazard1.extraData = NULL;\n",
    "    hazard1.extraDataType = 0;\n",
    "    hazard1.id = 1;\n",
    "    hazard1.severityClass = 'A';\n",
    "    \n",
    "    hazard2.description = \"Unknown issue in fluid level.\";\n",
    "    hazard2.extraData = NULL;\n",
    "    hazard2.extraDataType = 0;\n",
    "    hazard2.id = 2;\n",
    "    hazard2.severityClass = 'U';\n",
    "    \n",
    "    lastHazard = &hazard2;\n",
    "    \n",
    "    printf(\"Hazards after setup:\\n\");\n",
    "    printHazard(&hazard1);\n",
    "    printHazard(&hazard2);\n",
    "    \n",
    "    /* \n",
    "        The brake service hazard has been present for multiple\n",
    "        services, so needs to be updated to severity class 'B'.\n",
    "    */\n",
    "    /* Original: hazard1.severityClass = 'B'; */\n",
    "    /* CHANGE THE CODE HERE: */\n",
    "    hazard1.severityClass = 'B';\n",
    "    \n",
    "    printf(\"Hazard 1 after class B severity update:\\n\");\n",
    "    printHazard(&hazard1);\n",
    "    \n",
    "    /*\n",
    "        The next hazard to be evaluted has been evaluated and\n",
    "        its severity class has been found to be quite serious,\n",
    "        class 'D'. As part of this issue, the id has also been\n",
    "        increased to 3 and the hazard description has been \n",
    "        changed to \"Fluid leak in tank 4\".\n",
    "    */\n",
    "    /* Original: lastHazard->severityClass = 'D'; */\n",
    "    /* CHANGE THE CODE HERE: */\n",
    "    lastHazard->severityClass = 'D';\n",
    "    \n",
    "    /* Original: lastHazard->description = \"Fluid leak in tank 4\"; */\n",
    "    /* CHANGE THE CODE HERE: */\n",
    "    lastHazard->description = \"Fluid leak in tank 4\";\n",
    "    \n",
    "    printf(\"Hazard 2 after description and D-class update:\\n\");\n",
    "    printHazard(&hazard2);\n",
    "    \n",
    "    return 0;\n",
    "}\n",
    "\n",
    "void printHazard(struct hazard *hazard){\n",
    "    \n",
    "    printf(\"Hazard %d: %s [Class %c, extraDataType: %d]\\n\", \n",
    "        hazard->id, hazard->description, hazard->severityClass, \n",
    "        hazard->extraDataType);\n",
    "}"
   ]
  },
  {
   "cell_type": "markdown",
   "metadata": {},
   "source": [
    "## Debugging Exercises\n",
    "These exercises are new this year, they'll highlight some of the common issues that people are likely to face in the first assignment.\n",
    "\n",
    "**Programming 2.6 - Debug Exercise** This exercise shows an off-by-one error."
   ]
  },
  {
   "cell_type": "code",
   "execution_count": null,
   "metadata": {},
   "outputs": [],
   "source": [
    "//%test_script:week3/test_p_2.6.sh\n",
    "#include <stdio.h>\n",
    "#include <stdlib.h>\n",
    "#include <string.h>\n",
    "\n",
    "char *overwriteString(char *newString, char *location);\n",
    "\n",
    "int main(int argc, char **argv){\n",
    "    char stringLocation[] = \"A long initial string\";\n",
    "    printf(\"Initial contents of string: %s\\n\", stringLocation);\n",
    "    char replaceString[] = \"Short string\";\n",
    "    printf(\"Overwriting \\\"%s\\\" with \\\"%s\\\"\\n\", stringLocation, replaceString);\n",
    "    char *string1 = overwriteString(replaceString, stringLocation);\n",
    "    printf(\"String now: %s\\n\", string1);\n",
    "    printf(\"String length: %ld\\n\", strlen(string1));\n",
    "    return 0;\n",
    "}\n",
    "\n",
    "char *overwriteString(char *newString, char *location){\n",
    "    int i;\n",
    "    for(i = 0; i < strlen(newString); i++){\n",
    "        location[i] = newString[i];\n",
    "    }\n",
    "    return location;\n",
    "}"
   ]
  },
  {
   "cell_type": "markdown",
   "metadata": {},
   "source": [
    "**Programming 2.7 - Debug Exercise** This exercise shows a memory mistake."
   ]
  },
  {
   "cell_type": "code",
   "execution_count": null,
   "metadata": {},
   "outputs": [],
   "source": [
    "//%test_script:week3/test_p_2.7.sh\n",
    "#include <stdio.h>\n",
    "#include <stdlib.h>\n",
    "#include <string.h>\n",
    "\n",
    "/* Writes the characters in the newString to the given location */\n",
    "char *overwriteString(char *newString, char *location);\n",
    "/* Prints the three strings. */\n",
    "void showStrings(int step, char **strings);\n",
    "\n",
    "int main(int argc, char **argv){\n",
    "    char stringLocation[] = \"                    \";\n",
    "    char *strings[3];\n",
    "    printf(\"Initial contents of string: %s\\n\", stringLocation);\n",
    "    char replaceString[] = \"Short string\";\n",
    "    printf(\"Writing \\\"%s\\\" into all three strings\\n\", replaceString);\n",
    "    \n",
    "    /*\n",
    "     Investigate this area.\n",
    "    */\n",
    "    strings[0] = stringLocation;\n",
    "    overwriteString(replaceString, strings[0]);\n",
    "    strings[1] = stringLocation;\n",
    "    overwriteString(replaceString, strings[1]);\n",
    "    strings[2] = stringLocation;\n",
    "    overwriteString(replaceString, strings[2]);\n",
    "    showStrings(1, strings);\n",
    "    /*\n",
    "     Investigate this area.\n",
    "    */\n",
    "    \n",
    "    printf(\"Replacing last character in string[1] with 1\\n\");\n",
    "    strings[1][strlen(strings[1]) - 1] = '1';\n",
    "    showStrings(2, strings);\n",
    "    \n",
    "    printf(\"Replacing last character in string[2] with 2\\n\");\n",
    "    strings[2][strlen(strings[2]) - 1] = '2';\n",
    "    showStrings(3, strings);\n",
    "    return 0;\n",
    "}\n",
    "\n",
    "char *overwriteString(char *newString, char *location){\n",
    "    int i;\n",
    "    for(i = 0; i < (strlen(newString) + 1); i++){\n",
    "        location[i] = newString[i];\n",
    "    }\n",
    "    return location;\n",
    "}\n",
    "\n",
    "void showStrings(int step, char **strings){\n",
    "    printf(\"Step %d - strings[0] = %s\\n\", step, strings[0]);\n",
    "    printf(\"Step %d - strings[1] = %s\\n\", step, strings[1]);\n",
    "    printf(\"Step %d - strings[2] = %s\\n\", step, strings[2]);\n",
    "}"
   ]
  }
 ],
 "metadata": {
  "kernelspec": {
   "display_name": "C",
   "language": "c",
   "name": "c"
  },
  "language_info": {
   "file_extension": ".c",
   "mimetype": "text/plain",
   "name": "c"
  }
 },
 "nbformat": 4,
 "nbformat_minor": 4
}
