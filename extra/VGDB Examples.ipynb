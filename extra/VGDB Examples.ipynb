{
 "cells": [
  {
   "cell_type": "markdown",
   "metadata": {},
   "source": [
    "# VGDB Examples\n",
    "This notebook highlights some key features of VGDB that make it a useful tool for quickly solving your trickiest errors.\n",
    "\n",
    "A quick cheat sheet of common commands:"
   ]
  },
  {
   "cell_type": "markdown",
   "metadata": {},
   "source": [
    "```bash\n",
    "valgrind --vgdb=full --vgdb-error=1 --read-var-info=yes --leak-check=full ./example1 < ex1_input.txt\n",
    "\n",
    "gdb example1\n",
    "\n",
    "target remote | vgdb\n",
    "\n",
    "monitor who_points_at <address> <length>\n",
    "monitor xb <address>\n",
    "monitor check_memory defined <address> <length>\n",
    "monitor v.info last_error\n",
    "monitor v.info all_errors\n",
    "monitor leak_check\n",
    "monitor leak_check full reachable any\n",
    "monitor block_list\n",
    "monitor v.kill\n",
    "```"
   ]
  },
  {
   "cell_type": "markdown",
   "metadata": {},
   "source": [
    "## Example Program\n",
    "Here is a program which has issues which valgrind can easily pick up. It shows some common mistakes in memory management.\n",
    "\n",
    "It's a simple program meant to read data into a space and then stores it in a small linked list structure."
   ]
  },
  {
   "cell_type": "code",
   "execution_count": null,
   "metadata": {},
   "outputs": [],
   "source": [
    "//% stdin: \"input line 1\"\n",
    "//% stdin: \"input line 2\"\n",
    "//% stdin: \"input line 3\"\n",
    "//% stdin: \"4th input line\"\n",
    "#include <stdio.h>\n",
    "#include <stdlib.h>\n",
    "#include <assert.h>\n",
    "#include <string.h>\n",
    "\n",
    "#define MAXSTRINGSIZE 15\n",
    "\n",
    "struct node {\n",
    "    char *string;\n",
    "    struct node *next;\n",
    "};\n",
    "\n",
    "struct node *new_node(){\n",
    "    struct node *new_node = (struct node *) malloc(sizeof(struct node));\n",
    "    new_node->string = (char *) malloc(sizeof(char) * MAXSTRINGSIZE);\n",
    "    assert(new_node->string);\n",
    "    return new_node;\n",
    "}\n",
    "\n",
    "void store_string(struct node *node, char *buffer){\n",
    "    node->string = buffer;\n",
    "}\n",
    "\n",
    "int main(int argc, char **argv){\n",
    "    char *buffer = (char *) malloc(sizeof(char) * MAXSTRINGSIZE);\n",
    "    assert(buffer);\n",
    "    struct node *head = new_node();\n",
    "    while(scanf(\"%[^\\n]\\n\", buffer) == 1){\n",
    "        printf(\"%s\\n\", buffer);\n",
    "        store_string(head, buffer);\n",
    "    }\n",
    "    printf(\"Head string: %s\\n\", head->string);\n",
    "    printf(\"Next string: %s\\n\", head->next->string);\n",
    "    printf(\"Next next string: %s\\n\", head->next->next->string);\n",
    "    printf(\"Last string: %s\\n\", head->next->next->next->string);\n",
    "    \n",
    "    free(head->string);\n",
    "    free(head);\n",
    "    return 0;\n",
    "}\n"
   ]
  },
  {
   "cell_type": "markdown",
   "metadata": {},
   "source": [
    "### Expected Output\n",
    "The expected last four lines of the output are:\n",
    "```\n",
    "Head string: 4th input line\n",
    "Next string: input line 3\n",
    "Next next string: input line 2\n",
    "Last string: input line 1\n",
    "```"
   ]
  }
 ],
 "metadata": {
  "kernelspec": {
   "display_name": "C",
   "language": "c",
   "name": "c"
  },
  "language_info": {
   "file_extension": ".c",
   "mimetype": "text/plain",
   "name": "c"
  }
 },
 "nbformat": 4,
 "nbformat_minor": 4
}
